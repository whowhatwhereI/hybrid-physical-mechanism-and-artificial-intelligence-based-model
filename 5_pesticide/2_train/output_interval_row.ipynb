{
 "cells": [
  {
   "cell_type": "code",
   "execution_count": 30,
   "metadata": {},
   "outputs": [
    {
     "name": "stdout",
     "output_type": "stream",
     "text": [
      "                 time  pesticide_pred  pesticde_observe  runflow_pred  \\\n",
      "0    2022-07-02T10:40        0.409968          3.510334      0.000441   \n",
      "1    2022-07-02T10:50        5.124436          3.187563      0.217229   \n",
      "2    2022-07-02T11:00        1.676828          1.234364      0.013995   \n",
      "3    2022-07-02T11:10        0.866680          1.646880      0.002769   \n",
      "4    2022-07-02T11:20        0.447947          2.059396      0.000548   \n",
      "..                ...             ...               ...           ...   \n",
      "254  2022-08-25T13:50       34.245548         12.859364      1.672103   \n",
      "255  2022-08-25T14:00       32.648749         13.716557      1.476940   \n",
      "256  2022-08-25T14:10       31.556982         14.573749      1.350146   \n",
      "257  2022-08-25T14:20       30.830613         15.430941      1.267689   \n",
      "258  2022-08-25T14:30       27.694856         16.288134      0.969916   \n",
      "\n",
      "     runflow_observe      prec  accumulation  accumulation_sub  log_diff  \\\n",
      "0             2.5131  0.008879   19145191.23          0.000181  0.932589   \n",
      "1             2.2411  0.013321   19145191.23          1.113360  0.206187   \n",
      "2             2.0235  0.017762   19145191.23          1.136826  0.133044   \n",
      "3             1.9147  0.016166   19145191.23          1.139226  0.278801   \n",
      "4             0.8364  0.019400   19145191.23          1.139472  0.662505   \n",
      "..               ...       ...           ...               ...       ...   \n",
      "254           0.0000  0.156395    1860068.99        503.747777  0.425384   \n",
      "255           0.0000  0.197872    1860068.99        551.968010  0.376621   \n",
      "256           0.0000  0.322521    1860068.99        594.574553  0.335524   \n",
      "257           0.0000  0.378411    1860068.99        633.658173  0.300590   \n",
      "258           0.0000  0.434301    1860068.99        660.519857  0.230528   \n",
      "\n",
      "     area_id  \n",
      "0      870.0  \n",
      "1      870.0  \n",
      "2      870.0  \n",
      "3      870.0  \n",
      "4      870.0  \n",
      "..       ...  \n",
      "254   3716.0  \n",
      "255   3716.0  \n",
      "256   3716.0  \n",
      "257   3716.0  \n",
      "258   3716.0  \n",
      "\n",
      "[259 rows x 10 columns]\n",
      "[15, 20, 33, 38, 42, 47, 67, 83, 97, 122, 147, 166, 171, 174, 178, 190, 194, 198, 215, 223, 245, 249]\n"
     ]
    }
   ],
   "source": [
    "import numpy as np\n",
    "import pandas as pd\n",
    "\n",
    "data_file = pd.read_csv('THM_compare.csv')\n",
    "print(data_file)\n",
    "\n",
    "interval_row = []\n",
    "for idx in data_file.index:\n",
    "    if pd.isna(data_file.loc[idx, 'time']):\n",
    "        interval_row.append(idx + 1)\n",
    "print(interval_row)\n",
    "    \n"
   ]
  }
 ],
 "metadata": {
  "kernelspec": {
   "display_name": "base",
   "language": "python",
   "name": "python3"
  },
  "language_info": {
   "codemirror_mode": {
    "name": "ipython",
    "version": 3
   },
   "file_extension": ".py",
   "mimetype": "text/x-python",
   "name": "python",
   "nbconvert_exporter": "python",
   "pygments_lexer": "ipython3",
   "version": "3.12.3"
  }
 },
 "nbformat": 4,
 "nbformat_minor": 2
}
